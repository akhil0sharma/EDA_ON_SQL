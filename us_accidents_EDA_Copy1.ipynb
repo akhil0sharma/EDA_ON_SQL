{
  "cells": [
    {
      "cell_type": "markdown",
      "metadata": {
        "id": "view-in-github",
        "colab_type": "text"
      },
      "source": [
        "<a href=\"https://colab.research.google.com/github/akhil0sharma/EDA_ON_SQL/blob/main/us_accidents_EDA_Copy1.ipynb\" target=\"_parent\"><img src=\"https://colab.research.google.com/assets/colab-badge.svg\" alt=\"Open In Colab\"/></a>"
      ]
    },
    {
      "cell_type": "code",
      "execution_count": null,
      "id": "f7c5bf86",
      "metadata": {
        "id": "f7c5bf86"
      },
      "outputs": [],
      "source": [
        "# First let's import the packages we will use in this project\n",
        "import pandas as pd\n",
        "import numpy as np\n",
        "import seaborn as sns\n",
        "\n",
        "import matplotlib.pyplot as plt\n",
        "import matplotlib.mlab as mlab\n",
        "import matplotlib\n",
        "plt.style.use('ggplot')\n",
        "from matplotlib.pyplot import figure\n",
        "\n",
        "%matplotlib inline\n",
        "matplotlib.rcParams['figure.figsize'] = (12,8)\n"
      ]
    },
    {
      "cell_type": "code",
      "execution_count": null,
      "id": "6c1c24d9",
      "metadata": {
        "id": "6c1c24d9",
        "outputId": "d2c77ed0-2ee0-4ea7-d221-b50079ca02b8"
      },
      "outputs": [
        {
          "name": "stderr",
          "output_type": "stream",
          "text": [
            "C:\\ProgramData\\Anaconda3\\lib\\site-packages\\IPython\\core\\interactiveshell.py:3444: DtypeWarning: Columns (30,31,32,33,34,35,36,37,38,39,40,41,42) have mixed types.Specify dtype option on import or set low_memory=False.\n",
            "  exec(code_obj, self.user_global_ns, self.user_ns)\n"
          ]
        },
        {
          "data": {
            "text/html": [
              "<div>\n",
              "<style scoped>\n",
              "    .dataframe tbody tr th:only-of-type {\n",
              "        vertical-align: middle;\n",
              "    }\n",
              "\n",
              "    .dataframe tbody tr th {\n",
              "        vertical-align: top;\n",
              "    }\n",
              "\n",
              "    .dataframe thead th {\n",
              "        text-align: right;\n",
              "    }\n",
              "</style>\n",
              "<table border=\"1\" class=\"dataframe\">\n",
              "  <thead>\n",
              "    <tr style=\"text-align: right;\">\n",
              "      <th></th>\n",
              "      <th>ID</th>\n",
              "      <th>Severity</th>\n",
              "      <th>Start_Time</th>\n",
              "      <th>End_Time</th>\n",
              "      <th>Start_Lat</th>\n",
              "      <th>Start_Lng</th>\n",
              "      <th>End_Lat</th>\n",
              "      <th>End_Lng</th>\n",
              "      <th>Distance(mi)</th>\n",
              "      <th>Description</th>\n",
              "      <th>...</th>\n",
              "      <th>Roundabout</th>\n",
              "      <th>Station</th>\n",
              "      <th>Stop</th>\n",
              "      <th>Traffic_Calming</th>\n",
              "      <th>Traffic_Signal</th>\n",
              "      <th>Turning_Loop</th>\n",
              "      <th>Sunrise_Sunset</th>\n",
              "      <th>Civil_Twilight</th>\n",
              "      <th>Nautical_Twilight</th>\n",
              "      <th>Astronomical_Twilight</th>\n",
              "    </tr>\n",
              "  </thead>\n",
              "  <tbody>\n",
              "    <tr>\n",
              "      <th>0</th>\n",
              "      <td>A-1</td>\n",
              "      <td>3</td>\n",
              "      <td>2016-02-08 00:37:08</td>\n",
              "      <td>2016-02-08 06:37:08</td>\n",
              "      <td>40.108910</td>\n",
              "      <td>-83.092860</td>\n",
              "      <td>40.112060</td>\n",
              "      <td>-83.031870</td>\n",
              "      <td>3.230</td>\n",
              "      <td>Between Sawmill Rd/Exit 20 and OH-315/Olentang...</td>\n",
              "      <td>...</td>\n",
              "      <td>False</td>\n",
              "      <td>False</td>\n",
              "      <td>False</td>\n",
              "      <td>False</td>\n",
              "      <td>False</td>\n",
              "      <td>False</td>\n",
              "      <td>Night</td>\n",
              "      <td>Night</td>\n",
              "      <td>Night</td>\n",
              "      <td>Night</td>\n",
              "    </tr>\n",
              "    <tr>\n",
              "      <th>1</th>\n",
              "      <td>A-2</td>\n",
              "      <td>2</td>\n",
              "      <td>2016-02-08 05:56:20</td>\n",
              "      <td>2016-02-08 11:56:20</td>\n",
              "      <td>39.865420</td>\n",
              "      <td>-84.062800</td>\n",
              "      <td>39.865010</td>\n",
              "      <td>-84.048730</td>\n",
              "      <td>0.747</td>\n",
              "      <td>At OH-4/OH-235/Exit 41 - Accident.</td>\n",
              "      <td>...</td>\n",
              "      <td>False</td>\n",
              "      <td>False</td>\n",
              "      <td>False</td>\n",
              "      <td>False</td>\n",
              "      <td>False</td>\n",
              "      <td>False</td>\n",
              "      <td>Night</td>\n",
              "      <td>Night</td>\n",
              "      <td>Night</td>\n",
              "      <td>Night</td>\n",
              "    </tr>\n",
              "    <tr>\n",
              "      <th>2</th>\n",
              "      <td>A-3</td>\n",
              "      <td>2</td>\n",
              "      <td>2016-02-08 06:15:39</td>\n",
              "      <td>2016-02-08 12:15:39</td>\n",
              "      <td>39.102660</td>\n",
              "      <td>-84.524680</td>\n",
              "      <td>39.102090</td>\n",
              "      <td>-84.523960</td>\n",
              "      <td>0.055</td>\n",
              "      <td>At I-71/US-50/Exit 1 - Accident.</td>\n",
              "      <td>...</td>\n",
              "      <td>False</td>\n",
              "      <td>False</td>\n",
              "      <td>False</td>\n",
              "      <td>False</td>\n",
              "      <td>False</td>\n",
              "      <td>False</td>\n",
              "      <td>Night</td>\n",
              "      <td>Night</td>\n",
              "      <td>Night</td>\n",
              "      <td>Day</td>\n",
              "    </tr>\n",
              "    <tr>\n",
              "      <th>3</th>\n",
              "      <td>A-4</td>\n",
              "      <td>2</td>\n",
              "      <td>2016-02-08 06:51:45</td>\n",
              "      <td>2016-02-08 12:51:45</td>\n",
              "      <td>41.062130</td>\n",
              "      <td>-81.537840</td>\n",
              "      <td>41.062170</td>\n",
              "      <td>-81.535470</td>\n",
              "      <td>0.123</td>\n",
              "      <td>At Dart Ave/Exit 21 - Accident.</td>\n",
              "      <td>...</td>\n",
              "      <td>False</td>\n",
              "      <td>False</td>\n",
              "      <td>False</td>\n",
              "      <td>False</td>\n",
              "      <td>False</td>\n",
              "      <td>False</td>\n",
              "      <td>Night</td>\n",
              "      <td>Night</td>\n",
              "      <td>Day</td>\n",
              "      <td>Day</td>\n",
              "    </tr>\n",
              "    <tr>\n",
              "      <th>4</th>\n",
              "      <td>A-5</td>\n",
              "      <td>3</td>\n",
              "      <td>2016-02-08 07:53:43</td>\n",
              "      <td>2016-02-08 13:53:43</td>\n",
              "      <td>39.172393</td>\n",
              "      <td>-84.492792</td>\n",
              "      <td>39.170476</td>\n",
              "      <td>-84.501798</td>\n",
              "      <td>0.500</td>\n",
              "      <td>At Mitchell Ave/Exit 6 - Accident.</td>\n",
              "      <td>...</td>\n",
              "      <td>False</td>\n",
              "      <td>False</td>\n",
              "      <td>False</td>\n",
              "      <td>False</td>\n",
              "      <td>False</td>\n",
              "      <td>False</td>\n",
              "      <td>Day</td>\n",
              "      <td>Day</td>\n",
              "      <td>Day</td>\n",
              "      <td>Day</td>\n",
              "    </tr>\n",
              "  </tbody>\n",
              "</table>\n",
              "<p>5 rows × 47 columns</p>\n",
              "</div>"
            ],
            "text/plain": [
              "    ID  Severity           Start_Time             End_Time  Start_Lat  \\\n",
              "0  A-1         3  2016-02-08 00:37:08  2016-02-08 06:37:08  40.108910   \n",
              "1  A-2         2  2016-02-08 05:56:20  2016-02-08 11:56:20  39.865420   \n",
              "2  A-3         2  2016-02-08 06:15:39  2016-02-08 12:15:39  39.102660   \n",
              "3  A-4         2  2016-02-08 06:51:45  2016-02-08 12:51:45  41.062130   \n",
              "4  A-5         3  2016-02-08 07:53:43  2016-02-08 13:53:43  39.172393   \n",
              "\n",
              "   Start_Lng    End_Lat    End_Lng  Distance(mi)  \\\n",
              "0 -83.092860  40.112060 -83.031870         3.230   \n",
              "1 -84.062800  39.865010 -84.048730         0.747   \n",
              "2 -84.524680  39.102090 -84.523960         0.055   \n",
              "3 -81.537840  41.062170 -81.535470         0.123   \n",
              "4 -84.492792  39.170476 -84.501798         0.500   \n",
              "\n",
              "                                         Description  ...  Roundabout Station  \\\n",
              "0  Between Sawmill Rd/Exit 20 and OH-315/Olentang...  ...       False   False   \n",
              "1                 At OH-4/OH-235/Exit 41 - Accident.  ...       False   False   \n",
              "2                   At I-71/US-50/Exit 1 - Accident.  ...       False   False   \n",
              "3                    At Dart Ave/Exit 21 - Accident.  ...       False   False   \n",
              "4                 At Mitchell Ave/Exit 6 - Accident.  ...       False   False   \n",
              "\n",
              "    Stop Traffic_Calming Traffic_Signal Turning_Loop Sunrise_Sunset  \\\n",
              "0  False           False          False        False          Night   \n",
              "1  False           False          False        False          Night   \n",
              "2  False           False          False        False          Night   \n",
              "3  False           False          False        False          Night   \n",
              "4  False           False          False        False            Day   \n",
              "\n",
              "  Civil_Twilight Nautical_Twilight Astronomical_Twilight  \n",
              "0          Night             Night                 Night  \n",
              "1          Night             Night                 Night  \n",
              "2          Night             Night                   Day  \n",
              "3          Night               Day                   Day  \n",
              "4            Day               Day                   Day  \n",
              "\n",
              "[5 rows x 47 columns]"
            ]
          },
          "execution_count": 2,
          "metadata": {},
          "output_type": "execute_result"
        }
      ],
      "source": [
        "df1 = pd.read_csv(\"US_Accidents_Dec21_updated.csv\")\n",
        "df1.head()"
      ]
    },
    {
      "cell_type": "code",
      "execution_count": null,
      "id": "05e4e295",
      "metadata": {
        "id": "05e4e295",
        "outputId": "bf0aab78-c070-40d5-84bc-060b78257e37"
      },
      "outputs": [
        {
          "data": {
            "text/plain": [
              "Index(['ID', 'Severity', 'Start_Time', 'End_Time', 'Start_Lat', 'Start_Lng',\n",
              "       'End_Lat', 'End_Lng', 'Distance(mi)', 'Description', 'Number', 'Street',\n",
              "       'Side', 'City', 'County', 'State', 'Zipcode', 'Country', 'Timezone',\n",
              "       'Airport_Code', 'Weather_Timestamp', 'Temperature(F)', 'Wind_Chill(F)',\n",
              "       'Humidity(%)', 'Pressure(in)', 'Visibility(mi)', 'Wind_Direction',\n",
              "       'Wind_Speed(mph)', 'Precipitation(in)', 'Weather_Condition', 'Amenity',\n",
              "       'Bump', 'Crossing', 'Give_Way', 'Junction', 'No_Exit', 'Railway',\n",
              "       'Roundabout', 'Station', 'Stop', 'Traffic_Calming', 'Traffic_Signal',\n",
              "       'Turning_Loop', 'Sunrise_Sunset', 'Civil_Twilight', 'Nautical_Twilight',\n",
              "       'Astronomical_Twilight'],\n",
              "      dtype='object')"
            ]
          },
          "execution_count": 85,
          "metadata": {},
          "output_type": "execute_result"
        }
      ],
      "source": [
        "df1.columns"
      ]
    },
    {
      "cell_type": "code",
      "execution_count": null,
      "id": "58117f72",
      "metadata": {
        "id": "58117f72"
      },
      "outputs": [],
      "source": [
        ""
      ]
    },
    {
      "cell_type": "code",
      "execution_count": null,
      "id": "7651ef70",
      "metadata": {
        "id": "7651ef70"
      },
      "outputs": [],
      "source": [
        ""
      ]
    },
    {
      "cell_type": "code",
      "execution_count": null,
      "id": "7ac01158",
      "metadata": {
        "id": "7ac01158",
        "outputId": "645ce96d-9197-4185-a32a-5810b33faaee"
      },
      "outputs": [
        {
          "name": "stdout",
          "output_type": "stream",
          "text": [
            "<class 'pandas.core.frame.DataFrame'>\n",
            "RangeIndex: 22921 entries, 0 to 22920\n",
            "Data columns (total 47 columns):\n",
            " #   Column                 Non-Null Count  Dtype  \n",
            "---  ------                 --------------  -----  \n",
            " 0   ID                     22921 non-null  object \n",
            " 1   Severity               22921 non-null  int64  \n",
            " 2   Start_Time             22921 non-null  object \n",
            " 3   End_Time               22921 non-null  object \n",
            " 4   Start_Lat              22920 non-null  float64\n",
            " 5   Start_Lng              22920 non-null  float64\n",
            " 6   End_Lat                22920 non-null  float64\n",
            " 7   End_Lng                22920 non-null  float64\n",
            " 8   Distance(mi)           22920 non-null  float64\n",
            " 9   Description            22920 non-null  object \n",
            " 10  Number                 3215 non-null   float64\n",
            " 11  Street                 22920 non-null  object \n",
            " 12  Side                   22920 non-null  object \n",
            " 13  City                   22920 non-null  object \n",
            " 14  County                 22920 non-null  object \n",
            " 15  State                  22920 non-null  object \n",
            " 16  Zipcode                22914 non-null  object \n",
            " 17  Country                22920 non-null  object \n",
            " 18  Timezone               22914 non-null  object \n",
            " 19  Airport_Code           22913 non-null  object \n",
            " 20  Weather_Timestamp      22666 non-null  object \n",
            " 21  Temperature(F)         22275 non-null  float64\n",
            " 22  Wind_Chill(F)          3961 non-null   float64\n",
            " 23  Humidity(%)            22255 non-null  float64\n",
            " 24  Pressure(in)           22307 non-null  float64\n",
            " 25  Visibility(mi)         22241 non-null  float64\n",
            " 26  Wind_Direction         22662 non-null  object \n",
            " 27  Wind_Speed(mph)        19320 non-null  float64\n",
            " 28  Precipitation(in)      1920 non-null   float64\n",
            " 29  Weather_Condition      22268 non-null  object \n",
            " 30  Amenity                22920 non-null  object \n",
            " 31  Bump                   22920 non-null  object \n",
            " 32  Crossing               22920 non-null  object \n",
            " 33  Give_Way               22920 non-null  object \n",
            " 34  Junction               22920 non-null  object \n",
            " 35  No_Exit                22920 non-null  object \n",
            " 36  Railway                22920 non-null  object \n",
            " 37  Roundabout             22920 non-null  object \n",
            " 38  Station                22920 non-null  object \n",
            " 39  Stop                   22920 non-null  object \n",
            " 40  Traffic_Calming        22920 non-null  object \n",
            " 41  Traffic_Signal         22920 non-null  object \n",
            " 42  Turning_Loop           22920 non-null  object \n",
            " 43  Sunrise_Sunset         22920 non-null  object \n",
            " 44  Civil_Twilight         22920 non-null  object \n",
            " 45  Nautical_Twilight      22920 non-null  object \n",
            " 46  Astronomical_Twilight  22920 non-null  object \n",
            "dtypes: float64(13), int64(1), object(33)\n",
            "memory usage: 8.2+ MB\n"
          ]
        }
      ],
      "source": [
        "df1.info()"
      ]
    },
    {
      "cell_type": "code",
      "execution_count": null,
      "id": "bb828c0d",
      "metadata": {
        "id": "bb828c0d",
        "outputId": "3bbf2636-0a5d-4972-99e5-9be9c707497e"
      },
      "outputs": [
        {
          "data": {
            "text/html": [
              "<div>\n",
              "<style scoped>\n",
              "    .dataframe tbody tr th:only-of-type {\n",
              "        vertical-align: middle;\n",
              "    }\n",
              "\n",
              "    .dataframe tbody tr th {\n",
              "        vertical-align: top;\n",
              "    }\n",
              "\n",
              "    .dataframe thead th {\n",
              "        text-align: right;\n",
              "    }\n",
              "</style>\n",
              "<table border=\"1\" class=\"dataframe\">\n",
              "  <thead>\n",
              "    <tr style=\"text-align: right;\">\n",
              "      <th></th>\n",
              "      <th>Severity</th>\n",
              "      <th>Start_Lat</th>\n",
              "      <th>Start_Lng</th>\n",
              "      <th>End_Lat</th>\n",
              "      <th>End_Lng</th>\n",
              "      <th>Distance(mi)</th>\n",
              "      <th>Number</th>\n",
              "      <th>Temperature(F)</th>\n",
              "      <th>Wind_Chill(F)</th>\n",
              "      <th>Humidity(%)</th>\n",
              "      <th>Pressure(in)</th>\n",
              "      <th>Visibility(mi)</th>\n",
              "      <th>Wind_Speed(mph)</th>\n",
              "      <th>Precipitation(in)</th>\n",
              "    </tr>\n",
              "  </thead>\n",
              "  <tbody>\n",
              "    <tr>\n",
              "      <th>count</th>\n",
              "      <td>22921.000000</td>\n",
              "      <td>22920.000000</td>\n",
              "      <td>22920.000000</td>\n",
              "      <td>22920.000000</td>\n",
              "      <td>22920.000000</td>\n",
              "      <td>22920.000000</td>\n",
              "      <td>3215.000000</td>\n",
              "      <td>22275.000000</td>\n",
              "      <td>3961.000000</td>\n",
              "      <td>22255.000000</td>\n",
              "      <td>22307.000000</td>\n",
              "      <td>22241.000000</td>\n",
              "      <td>19320.000000</td>\n",
              "      <td>1920.000000</td>\n",
              "    </tr>\n",
              "    <tr>\n",
              "      <th>mean</th>\n",
              "      <td>2.321234</td>\n",
              "      <td>35.803312</td>\n",
              "      <td>-106.313440</td>\n",
              "      <td>35.803478</td>\n",
              "      <td>-106.313383</td>\n",
              "      <td>0.684327</td>\n",
              "      <td>8425.976983</td>\n",
              "      <td>59.150519</td>\n",
              "      <td>22.595228</td>\n",
              "      <td>63.308605</td>\n",
              "      <td>29.999129</td>\n",
              "      <td>9.271692</td>\n",
              "      <td>9.506693</td>\n",
              "      <td>0.027760</td>\n",
              "    </tr>\n",
              "    <tr>\n",
              "      <th>std</th>\n",
              "      <td>0.585371</td>\n",
              "      <td>4.157034</td>\n",
              "      <td>12.863701</td>\n",
              "      <td>4.157162</td>\n",
              "      <td>12.863910</td>\n",
              "      <td>1.737037</td>\n",
              "      <td>10120.026381</td>\n",
              "      <td>18.167628</td>\n",
              "      <td>18.119386</td>\n",
              "      <td>21.415269</td>\n",
              "      <td>0.261188</td>\n",
              "      <td>3.043264</td>\n",
              "      <td>9.571508</td>\n",
              "      <td>0.080064</td>\n",
              "    </tr>\n",
              "    <tr>\n",
              "      <th>min</th>\n",
              "      <td>2.000000</td>\n",
              "      <td>26.218240</td>\n",
              "      <td>-123.526160</td>\n",
              "      <td>26.209870</td>\n",
              "      <td>-123.526160</td>\n",
              "      <td>0.000000</td>\n",
              "      <td>1.000000</td>\n",
              "      <td>-18.000000</td>\n",
              "      <td>-34.700000</td>\n",
              "      <td>4.000000</td>\n",
              "      <td>20.670000</td>\n",
              "      <td>0.000000</td>\n",
              "      <td>0.000000</td>\n",
              "      <td>0.000000</td>\n",
              "    </tr>\n",
              "    <tr>\n",
              "      <th>25%</th>\n",
              "      <td>2.000000</td>\n",
              "      <td>32.880480</td>\n",
              "      <td>-118.287120</td>\n",
              "      <td>32.883650</td>\n",
              "      <td>-118.286965</td>\n",
              "      <td>0.188000</td>\n",
              "      <td>1700.500000</td>\n",
              "      <td>51.800000</td>\n",
              "      <td>10.600000</td>\n",
              "      <td>48.000000</td>\n",
              "      <td>29.890000</td>\n",
              "      <td>10.000000</td>\n",
              "      <td>5.800000</td>\n",
              "      <td>0.000000</td>\n",
              "    </tr>\n",
              "    <tr>\n",
              "      <th>50%</th>\n",
              "      <td>2.000000</td>\n",
              "      <td>34.139250</td>\n",
              "      <td>-98.501670</td>\n",
              "      <td>34.139920</td>\n",
              "      <td>-98.501879</td>\n",
              "      <td>0.417000</td>\n",
              "      <td>4882.000000</td>\n",
              "      <td>62.600000</td>\n",
              "      <td>24.200000</td>\n",
              "      <td>64.000000</td>\n",
              "      <td>29.990000</td>\n",
              "      <td>10.000000</td>\n",
              "      <td>8.100000</td>\n",
              "      <td>0.000000</td>\n",
              "    </tr>\n",
              "    <tr>\n",
              "      <th>75%</th>\n",
              "      <td>3.000000</td>\n",
              "      <td>38.606267</td>\n",
              "      <td>-95.333918</td>\n",
              "      <td>38.605600</td>\n",
              "      <td>-95.334934</td>\n",
              "      <td>0.675250</td>\n",
              "      <td>11202.500000</td>\n",
              "      <td>70.000000</td>\n",
              "      <td>34.000000</td>\n",
              "      <td>80.000000</td>\n",
              "      <td>30.110000</td>\n",
              "      <td>10.000000</td>\n",
              "      <td>11.500000</td>\n",
              "      <td>0.020000</td>\n",
              "    </tr>\n",
              "    <tr>\n",
              "      <th>max</th>\n",
              "      <td>4.000000</td>\n",
              "      <td>48.125360</td>\n",
              "      <td>-80.005270</td>\n",
              "      <td>48.122370</td>\n",
              "      <td>-79.958150</td>\n",
              "      <td>150.138000</td>\n",
              "      <td>88699.000000</td>\n",
              "      <td>127.400000</td>\n",
              "      <td>101.000000</td>\n",
              "      <td>100.000000</td>\n",
              "      <td>30.920000</td>\n",
              "      <td>70.000000</td>\n",
              "      <td>822.800000</td>\n",
              "      <td>1.120000</td>\n",
              "    </tr>\n",
              "  </tbody>\n",
              "</table>\n",
              "</div>"
            ],
            "text/plain": [
              "           Severity     Start_Lat     Start_Lng       End_Lat       End_Lng  \\\n",
              "count  22921.000000  22920.000000  22920.000000  22920.000000  22920.000000   \n",
              "mean       2.321234     35.803312   -106.313440     35.803478   -106.313383   \n",
              "std        0.585371      4.157034     12.863701      4.157162     12.863910   \n",
              "min        2.000000     26.218240   -123.526160     26.209870   -123.526160   \n",
              "25%        2.000000     32.880480   -118.287120     32.883650   -118.286965   \n",
              "50%        2.000000     34.139250    -98.501670     34.139920    -98.501879   \n",
              "75%        3.000000     38.606267    -95.333918     38.605600    -95.334934   \n",
              "max        4.000000     48.125360    -80.005270     48.122370    -79.958150   \n",
              "\n",
              "       Distance(mi)        Number  Temperature(F)  Wind_Chill(F)  \\\n",
              "count  22920.000000   3215.000000    22275.000000    3961.000000   \n",
              "mean       0.684327   8425.976983       59.150519      22.595228   \n",
              "std        1.737037  10120.026381       18.167628      18.119386   \n",
              "min        0.000000      1.000000      -18.000000     -34.700000   \n",
              "25%        0.188000   1700.500000       51.800000      10.600000   \n",
              "50%        0.417000   4882.000000       62.600000      24.200000   \n",
              "75%        0.675250  11202.500000       70.000000      34.000000   \n",
              "max      150.138000  88699.000000      127.400000     101.000000   \n",
              "\n",
              "        Humidity(%)  Pressure(in)  Visibility(mi)  Wind_Speed(mph)  \\\n",
              "count  22255.000000  22307.000000    22241.000000     19320.000000   \n",
              "mean      63.308605     29.999129        9.271692         9.506693   \n",
              "std       21.415269      0.261188        3.043264         9.571508   \n",
              "min        4.000000     20.670000        0.000000         0.000000   \n",
              "25%       48.000000     29.890000       10.000000         5.800000   \n",
              "50%       64.000000     29.990000       10.000000         8.100000   \n",
              "75%       80.000000     30.110000       10.000000        11.500000   \n",
              "max      100.000000     30.920000       70.000000       822.800000   \n",
              "\n",
              "       Precipitation(in)  \n",
              "count        1920.000000  \n",
              "mean            0.027760  \n",
              "std             0.080064  \n",
              "min             0.000000  \n",
              "25%             0.000000  \n",
              "50%             0.000000  \n",
              "75%             0.020000  \n",
              "max             1.120000  "
            ]
          },
          "execution_count": 9,
          "metadata": {},
          "output_type": "execute_result"
        }
      ],
      "source": [
        "df1.describe()"
      ]
    },
    {
      "cell_type": "code",
      "execution_count": null,
      "id": "4780f68f",
      "metadata": {
        "id": "4780f68f",
        "outputId": "40ccec46-c55a-48ee-8d78-3c6d3d052f1f"
      },
      "outputs": [
        {
          "data": {
            "text/html": [
              "<div>\n",
              "<style scoped>\n",
              "    .dataframe tbody tr th:only-of-type {\n",
              "        vertical-align: middle;\n",
              "    }\n",
              "\n",
              "    .dataframe tbody tr th {\n",
              "        vertical-align: top;\n",
              "    }\n",
              "\n",
              "    .dataframe thead th {\n",
              "        text-align: right;\n",
              "    }\n",
              "</style>\n",
              "<table border=\"1\" class=\"dataframe\">\n",
              "  <thead>\n",
              "    <tr style=\"text-align: right;\">\n",
              "      <th></th>\n",
              "      <th>Severity</th>\n",
              "      <th>Start_Lat</th>\n",
              "      <th>Start_Lng</th>\n",
              "      <th>End_Lat</th>\n",
              "      <th>End_Lng</th>\n",
              "      <th>Distance(mi)</th>\n",
              "      <th>Number</th>\n",
              "      <th>Temperature(F)</th>\n",
              "      <th>Wind_Chill(F)</th>\n",
              "      <th>Humidity(%)</th>\n",
              "      <th>Pressure(in)</th>\n",
              "      <th>Visibility(mi)</th>\n",
              "      <th>Wind_Speed(mph)</th>\n",
              "      <th>Precipitation(in)</th>\n",
              "    </tr>\n",
              "  </thead>\n",
              "  <tbody>\n",
              "    <tr>\n",
              "      <th>0</th>\n",
              "      <td>3</td>\n",
              "      <td>40.108910</td>\n",
              "      <td>-83.092860</td>\n",
              "      <td>40.112060</td>\n",
              "      <td>-83.031870</td>\n",
              "      <td>3.230</td>\n",
              "      <td>NaN</td>\n",
              "      <td>42.1</td>\n",
              "      <td>36.1</td>\n",
              "      <td>58.0</td>\n",
              "      <td>29.76</td>\n",
              "      <td>10.0</td>\n",
              "      <td>10.4</td>\n",
              "      <td>0.00</td>\n",
              "    </tr>\n",
              "    <tr>\n",
              "      <th>1</th>\n",
              "      <td>2</td>\n",
              "      <td>39.865420</td>\n",
              "      <td>-84.062800</td>\n",
              "      <td>39.865010</td>\n",
              "      <td>-84.048730</td>\n",
              "      <td>0.747</td>\n",
              "      <td>NaN</td>\n",
              "      <td>36.9</td>\n",
              "      <td>NaN</td>\n",
              "      <td>91.0</td>\n",
              "      <td>29.68</td>\n",
              "      <td>10.0</td>\n",
              "      <td>NaN</td>\n",
              "      <td>0.02</td>\n",
              "    </tr>\n",
              "    <tr>\n",
              "      <th>2</th>\n",
              "      <td>2</td>\n",
              "      <td>39.102660</td>\n",
              "      <td>-84.524680</td>\n",
              "      <td>39.102090</td>\n",
              "      <td>-84.523960</td>\n",
              "      <td>0.055</td>\n",
              "      <td>NaN</td>\n",
              "      <td>36.0</td>\n",
              "      <td>NaN</td>\n",
              "      <td>97.0</td>\n",
              "      <td>29.70</td>\n",
              "      <td>10.0</td>\n",
              "      <td>NaN</td>\n",
              "      <td>0.02</td>\n",
              "    </tr>\n",
              "    <tr>\n",
              "      <th>3</th>\n",
              "      <td>2</td>\n",
              "      <td>41.062130</td>\n",
              "      <td>-81.537840</td>\n",
              "      <td>41.062170</td>\n",
              "      <td>-81.535470</td>\n",
              "      <td>0.123</td>\n",
              "      <td>NaN</td>\n",
              "      <td>39.0</td>\n",
              "      <td>NaN</td>\n",
              "      <td>55.0</td>\n",
              "      <td>29.65</td>\n",
              "      <td>10.0</td>\n",
              "      <td>NaN</td>\n",
              "      <td>NaN</td>\n",
              "    </tr>\n",
              "    <tr>\n",
              "      <th>4</th>\n",
              "      <td>3</td>\n",
              "      <td>39.172393</td>\n",
              "      <td>-84.492792</td>\n",
              "      <td>39.170476</td>\n",
              "      <td>-84.501798</td>\n",
              "      <td>0.500</td>\n",
              "      <td>NaN</td>\n",
              "      <td>37.0</td>\n",
              "      <td>29.8</td>\n",
              "      <td>93.0</td>\n",
              "      <td>29.69</td>\n",
              "      <td>10.0</td>\n",
              "      <td>10.4</td>\n",
              "      <td>0.01</td>\n",
              "    </tr>\n",
              "  </tbody>\n",
              "</table>\n",
              "</div>"
            ],
            "text/plain": [
              "   Severity  Start_Lat  Start_Lng    End_Lat    End_Lng  Distance(mi)  Number  \\\n",
              "0         3  40.108910 -83.092860  40.112060 -83.031870         3.230     NaN   \n",
              "1         2  39.865420 -84.062800  39.865010 -84.048730         0.747     NaN   \n",
              "2         2  39.102660 -84.524680  39.102090 -84.523960         0.055     NaN   \n",
              "3         2  41.062130 -81.537840  41.062170 -81.535470         0.123     NaN   \n",
              "4         3  39.172393 -84.492792  39.170476 -84.501798         0.500     NaN   \n",
              "\n",
              "   Temperature(F)  Wind_Chill(F)  Humidity(%)  Pressure(in)  Visibility(mi)  \\\n",
              "0            42.1           36.1         58.0         29.76            10.0   \n",
              "1            36.9            NaN         91.0         29.68            10.0   \n",
              "2            36.0            NaN         97.0         29.70            10.0   \n",
              "3            39.0            NaN         55.0         29.65            10.0   \n",
              "4            37.0           29.8         93.0         29.69            10.0   \n",
              "\n",
              "   Wind_Speed(mph)  Precipitation(in)  \n",
              "0             10.4               0.00  \n",
              "1              NaN               0.02  \n",
              "2              NaN               0.02  \n",
              "3              NaN                NaN  \n",
              "4             10.4               0.01  "
            ]
          },
          "execution_count": 12,
          "metadata": {},
          "output_type": "execute_result"
        }
      ],
      "source": [
        "numerics = ['int16', 'int32', 'int64', 'float16', 'float32', 'float64']\n",
        "numeric_df1 = df1.select_dtypes(include=numerics)\n",
        "numeric_df1.head()"
      ]
    },
    {
      "cell_type": "code",
      "execution_count": null,
      "id": "7f6f8cfb",
      "metadata": {
        "id": "7f6f8cfb",
        "outputId": "423a28eb-c3a4-4200-b507-6def1ef5e5b6"
      },
      "outputs": [
        {
          "data": {
            "text/plain": [
              "Precipitation(in)        0.916234\n",
              "Number                   0.859736\n",
              "Wind_Chill(F)            0.827189\n",
              "Wind_Speed(mph)          0.157105\n",
              "Visibility(mi)           0.029667\n",
              "Humidity(%)              0.029056\n",
              "Weather_Condition        0.028489\n",
              "Temperature(F)           0.028184\n",
              "Pressure(in)             0.026788\n",
              "Wind_Direction           0.011300\n",
              "Weather_Timestamp        0.011125\n",
              "Airport_Code             0.000349\n",
              "Timezone                 0.000305\n",
              "Zipcode                  0.000305\n",
              "Nautical_Twilight        0.000044\n",
              "Civil_Twilight           0.000044\n",
              "Sunrise_Sunset           0.000044\n",
              "Bump                     0.000044\n",
              "Turning_Loop             0.000044\n",
              "Traffic_Calming          0.000044\n",
              "Stop                     0.000044\n",
              "Crossing                 0.000044\n",
              "Amenity                  0.000044\n",
              "Junction                 0.000044\n",
              "No_Exit                  0.000044\n",
              "Railway                  0.000044\n",
              "Roundabout               0.000044\n",
              "Traffic_Signal           0.000044\n",
              "Station                  0.000044\n",
              "Give_Way                 0.000044\n",
              "Astronomical_Twilight    0.000044\n",
              "Country                  0.000044\n",
              "State                    0.000044\n",
              "County                   0.000044\n",
              "City                     0.000044\n",
              "Side                     0.000044\n",
              "Street                   0.000044\n",
              "Description              0.000044\n",
              "Distance(mi)             0.000044\n",
              "End_Lng                  0.000044\n",
              "End_Lat                  0.000044\n",
              "Start_Lng                0.000044\n",
              "Start_Lat                0.000044\n",
              "Severity                 0.000000\n",
              "End_Time                 0.000000\n",
              "Start_Time               0.000000\n",
              "ID                       0.000000\n",
              "dtype: float64"
            ]
          },
          "execution_count": 87,
          "metadata": {},
          "output_type": "execute_result"
        }
      ],
      "source": [
        "#missing values\n",
        "missing_perc=df1.isna().sum().sort_values(ascending=False)/len(df1)\n",
        "missing_perc"
      ]
    },
    {
      "cell_type": "code",
      "execution_count": null,
      "id": "a20a43e9",
      "metadata": {
        "id": "a20a43e9",
        "outputId": "2d4832b6-9628-4c01-f43e-bb67f8779c50"
      },
      "outputs": [
        {
          "data": {
            "text/plain": [
              "Precipitation(in)        0.916234\n",
              "Number                   0.859736\n",
              "Wind_Chill(F)            0.827189\n",
              "Wind_Speed(mph)          0.157105\n",
              "Visibility(mi)           0.029667\n",
              "Humidity(%)              0.029056\n",
              "Weather_Condition        0.028489\n",
              "Temperature(F)           0.028184\n",
              "Pressure(in)             0.026788\n",
              "Wind_Direction           0.011300\n",
              "Weather_Timestamp        0.011125\n",
              "Airport_Code             0.000349\n",
              "Timezone                 0.000305\n",
              "Zipcode                  0.000305\n",
              "Nautical_Twilight        0.000044\n",
              "Civil_Twilight           0.000044\n",
              "Sunrise_Sunset           0.000044\n",
              "Bump                     0.000044\n",
              "Turning_Loop             0.000044\n",
              "Traffic_Calming          0.000044\n",
              "Stop                     0.000044\n",
              "Crossing                 0.000044\n",
              "Amenity                  0.000044\n",
              "Junction                 0.000044\n",
              "No_Exit                  0.000044\n",
              "Railway                  0.000044\n",
              "Roundabout               0.000044\n",
              "Traffic_Signal           0.000044\n",
              "Station                  0.000044\n",
              "Give_Way                 0.000044\n",
              "Astronomical_Twilight    0.000044\n",
              "Country                  0.000044\n",
              "State                    0.000044\n",
              "County                   0.000044\n",
              "City                     0.000044\n",
              "Side                     0.000044\n",
              "Street                   0.000044\n",
              "Description              0.000044\n",
              "Distance(mi)             0.000044\n",
              "End_Lng                  0.000044\n",
              "End_Lat                  0.000044\n",
              "Start_Lng                0.000044\n",
              "Start_Lat                0.000044\n",
              "dtype: float64"
            ]
          },
          "execution_count": 15,
          "metadata": {},
          "output_type": "execute_result"
        }
      ],
      "source": [
        "#removing zeroes perc\n",
        "missing_perc[missing_perc != 0]"
      ]
    },
    {
      "cell_type": "code",
      "execution_count": null,
      "id": "beaf7307",
      "metadata": {
        "id": "beaf7307",
        "outputId": "c8e2ff03-241f-4dcf-85fa-3d837f20435b"
      },
      "outputs": [
        {
          "data": {
            "text/plain": [
              "<AxesSubplot:>"
            ]
          },
          "execution_count": 16,
          "metadata": {},
          "output_type": "execute_result"
        },
        {
          "data": {
            "image/png": "[encoded data removed]",
            "text/plain": [
              "<Figure size 864x576 with 1 Axes>"
            ]
          },
          "metadata": {
            "needs_background": "light"
          },
          "output_type": "display_data"
        }
      ],
      "source": [
        "missing_perc[missing_perc != 0].plot(kind = 'barh')"
      ]
    },
    {
      "cell_type": "markdown",
      "id": "f2cc2905",
      "metadata": {
        "id": "f2cc2905"
      },
      "source": [
        "# Exploratory Analysis and Visualization"
      ]
    },
    {
      "cell_type": "markdown",
      "id": "7688805b",
      "metadata": {
        "id": "7688805b"
      },
      "source": [
        "Columns we'll analyze:\n",
        "\n",
        "City\n",
        "Start Time\n",
        "Start Lat, Start Lng\n",
        "Temperature\n",
        "Weather Condition"
      ]
    },
    {
      "cell_type": "code",
      "execution_count": null,
      "id": "d65e7a02",
      "metadata": {
        "id": "d65e7a02",
        "outputId": "4f7455b6-7ac6-467a-d664-4c5925405978"
      },
      "outputs": [
        {
          "data": {
            "text/plain": [
              "Index(['ID', 'Severity', 'Start_Time', 'End_Time', 'Start_Lat', 'Start_Lng',\n",
              "       'End_Lat', 'End_Lng', 'Distance(mi)', 'Description', 'Number', 'Street',\n",
              "       'Side', 'City', 'County', 'State', 'Zipcode', 'Country', 'Timezone',\n",
              "       'Airport_Code', 'Weather_Timestamp', 'Temperature(F)', 'Wind_Chill(F)',\n",
              "       'Humidity(%)', 'Pressure(in)', 'Visibility(mi)', 'Wind_Direction',\n",
              "       'Wind_Speed(mph)', 'Precipitation(in)', 'Weather_Condition', 'Amenity',\n",
              "       'Bump', 'Crossing', 'Give_Way', 'Junction', 'No_Exit', 'Railway',\n",
              "       'Roundabout', 'Station', 'Stop', 'Traffic_Calming', 'Traffic_Signal',\n",
              "       'Turning_Loop', 'Sunrise_Sunset', 'Civil_Twilight', 'Nautical_Twilight',\n",
              "       'Astronomical_Twilight'],\n",
              "      dtype='object')"
            ]
          },
          "execution_count": 19,
          "metadata": {},
          "output_type": "execute_result"
        }
      ],
      "source": [
        "df1.columns"
      ]
    },
    {
      "cell_type": "code",
      "execution_count": null,
      "id": "e5abd3b5",
      "metadata": {
        "id": "e5abd3b5",
        "outputId": "683bd40e-f3ca-40bc-8b0e-a50557417653"
      },
      "outputs": [
        {
          "data": {
            "text/plain": [
              "array(['Dublin', 'Dayton', 'Cincinnati', ..., 'Missouri City', 'Alvin',\n",
              "       nan], dtype=object)"
            ]
          },
          "execution_count": 21,
          "metadata": {},
          "output_type": "execute_result"
        }
      ],
      "source": [
        "df1.City.unique()"
      ]
    },
    {
      "cell_type": "markdown",
      "id": "3e28f3d5",
      "metadata": {
        "id": "3e28f3d5"
      },
      "source": [
        "Ask & answer questions: \n",
        "Are there more accidents in warmer or colder areas?\n",
        "Which 5 states have the highest number of accidents? \n",
        "Among the top 100 cities in number of accidents, which states do they belong to most frequently.\n",
        "What time of the day are accidents most frequent in? \n",
        "Which days of the week have the most accidents?\n",
        "Which months have the most accidents?\n",
        "What is the trend of accidents year over year (decreasing/increasing?)\n"
      ]
    },
    {
      "cell_type": "code",
      "execution_count": null,
      "id": "272aa74b",
      "metadata": {
        "id": "272aa74b",
        "outputId": "62b160f8-cdee-4752-dd4c-fec8922acf9e"
      },
      "outputs": [
        {
          "data": {
            "text/plain": [
              "Houston         1774\n",
              "Dallas          1627\n",
              "Los Angeles     1077\n",
              "Minneapolis      669\n",
              "Kansas City      638\n",
              "                ... \n",
              "Zelienople         1\n",
              "Holts Summit       1\n",
              "Frankford          1\n",
              "Phillipsburg       1\n",
              "Portsmouth         1\n",
              "Name: City, Length: 1530, dtype: int64"
            ]
          },
          "execution_count": 88,
          "metadata": {},
          "output_type": "execute_result"
        }
      ],
      "source": [
        "cities_by_accident = df1.City.value_counts()\n",
        "cities_by_accident"
      ]
    },
    {
      "cell_type": "code",
      "execution_count": null,
      "id": "4bdfa344",
      "metadata": {
        "id": "4bdfa344",
        "outputId": "9ffbcf90-766c-44d7-f0d9-e1a1dc0de9ad"
      },
      "outputs": [
        {
          "data": {
            "text/plain": [
              "Houston          1774\n",
              "Dallas           1627\n",
              "Los Angeles      1077\n",
              "Minneapolis       669\n",
              "Kansas City       638\n",
              "Saint Paul        485\n",
              "Fort Worth        420\n",
              "San Diego         406\n",
              "Sacramento        398\n",
              "San Jose          367\n",
              "Austin            271\n",
              "Oklahoma City     226\n",
              "San Antonio       201\n",
              "Oakland           191\n",
              "Saint Louis       174\n",
              "Name: City, dtype: int64"
            ]
          },
          "execution_count": 23,
          "metadata": {},
          "output_type": "execute_result"
        }
      ],
      "source": [
        "cities_by_accident[:15]"
      ]
    },
    {
      "cell_type": "code",
      "execution_count": null,
      "id": "7832b7cb",
      "metadata": {
        "id": "7832b7cb",
        "outputId": "b98bd5cc-2fc0-47be-dcd0-871587fab35d"
      },
      "outputs": [
        {
          "data": {
            "text/plain": [
              "<AxesSubplot:>"
            ]
          },
          "execution_count": 24,
          "metadata": {},
          "output_type": "execute_result"
        },
        {
          "data": {
            "image/png": "[encoded data removed]",
            "text/plain": [
              "<Figure size 864x576 with 1 Axes>"
            ]
          },
          "metadata": {
            "needs_background": "light"
          },
          "output_type": "display_data"
        }
      ],
      "source": [
        "cities_by_accident[:15].plot(kind='barh')"
      ]
    },
    {
      "cell_type": "code",
      "execution_count": null,
      "id": "8bc28583",
      "metadata": {
        "id": "8bc28583"
      },
      "outputs": [],
      "source": [
        "sns.set_style(\"darkgrid\")\n",
        "sns.histplot()"
      ]
    },
    {
      "cell_type": "code",
      "execution_count": null,
      "id": "853cd5b1",
      "metadata": {
        "id": "853cd5b1"
      },
      "outputs": [],
      "source": [
        "high_accident_cities=cities_by_accident[cities_by_accident>=100]\n",
        "low_accident_cities=cities_by_accident[cities_by_accident<100]"
      ]
    },
    {
      "cell_type": "code",
      "execution_count": null,
      "id": "89e1e7bd",
      "metadata": {
        "id": "89e1e7bd",
        "outputId": "a3809f04-13a1-4fd9-e490-7b44de7c8d0e"
      },
      "outputs": [
        {
          "data": {
            "text/plain": [
              "30"
            ]
          },
          "execution_count": 42,
          "metadata": {},
          "output_type": "execute_result"
        }
      ],
      "source": [
        "len(high_accident_cities)"
      ]
    },
    {
      "cell_type": "code",
      "execution_count": null,
      "id": "07c00164",
      "metadata": {
        "id": "07c00164",
        "outputId": "2ef48330-d554-4b77-cb20-8532bcd0d9af"
      },
      "outputs": [
        {
          "data": {
            "text/plain": [
              "1500"
            ]
          },
          "execution_count": 43,
          "metadata": {},
          "output_type": "execute_result"
        }
      ],
      "source": [
        "len(low_accident_cities)"
      ]
    },
    {
      "cell_type": "code",
      "execution_count": null,
      "id": "e440f54f",
      "metadata": {
        "id": "e440f54f",
        "outputId": "67adaf80-770f-4d06-c8ef-04ee55d5eaea"
      },
      "outputs": [
        {
          "data": {
            "text/plain": [
              "0.0196078431372549"
            ]
          },
          "execution_count": 44,
          "metadata": {},
          "output_type": "execute_result"
        }
      ],
      "source": [
        "len(high_accident_cities)/len(cities_by_accident)"
      ]
    },
    {
      "cell_type": "code",
      "execution_count": null,
      "id": "d51c90ec",
      "metadata": {
        "id": "d51c90ec",
        "outputId": "94aabe8b-79a1-4faf-f194-974529d425af"
      },
      "outputs": [
        {
          "data": {
            "text/plain": [
              "<AxesSubplot:xlabel='City', ylabel='Count'>"
            ]
          },
          "execution_count": 49,
          "metadata": {},
          "output_type": "execute_result"
        },
        {
          "data": {
            "image/png": "[encoded data removed]",
            "text/plain": [
              "<Figure size 864x576 with 1 Axes>"
            ]
          },
          "metadata": {},
          "output_type": "display_data"
        }
      ],
      "source": [
        "sns.histplot(high_accident_cities,log_scale=True)"
      ]
    },
    {
      "cell_type": "code",
      "execution_count": null,
      "id": "f081e95a",
      "metadata": {
        "id": "f081e95a",
        "outputId": "5d534c63-36c0-42ca-df86-2a7336a2dfba"
      },
      "outputs": [
        {
          "data": {
            "text/plain": [
              "<AxesSubplot:xlabel='City', ylabel='Count'>"
            ]
          },
          "execution_count": 50,
          "metadata": {},
          "output_type": "execute_result"
        },
        {
          "data": {
            "image/png": "[encoded data removed]",
            "text/plain": [
              "<Figure size 864x576 with 1 Axes>"
            ]
          },
          "metadata": {},
          "output_type": "display_data"
        }
      ],
      "source": [
        "sns.histplot(low_accident_cities,log_scale=True)"
      ]
    },
    {
      "cell_type": "code",
      "execution_count": null,
      "id": "df76b284",
      "metadata": {
        "id": "df76b284",
        "outputId": "1fc91ad3-2b5e-49a8-b46f-fb56b3b83b40"
      },
      "outputs": [
        {
          "data": {
            "text/plain": [
              "Lester Prairie    1\n",
              "Carencro          1\n",
              "La Vista          1\n",
              "Malcom            1\n",
              "Fulshear          1\n",
              "                 ..\n",
              "Zelienople        1\n",
              "Holts Summit      1\n",
              "Frankford         1\n",
              "Phillipsburg      1\n",
              "Portsmouth        1\n",
              "Name: City, Length: 462, dtype: int64"
            ]
          },
          "execution_count": 47,
          "metadata": {},
          "output_type": "execute_result"
        }
      ],
      "source": [
        "cities_by_accident[cities_by_accident == 1]##cities with only one accident"
      ]
    },
    {
      "cell_type": "code",
      "execution_count": null,
      "id": "20a2c3ce",
      "metadata": {
        "id": "20a2c3ce",
        "outputId": "1e4177da-1636-477b-8ec4-dd66c42d5e4d"
      },
      "outputs": [
        {
          "data": {
            "text/plain": [
              "462"
            ]
          },
          "execution_count": 48,
          "metadata": {},
          "output_type": "execute_result"
        }
      ],
      "source": [
        "len(cities_by_accident[cities_by_accident == 1])"
      ]
    },
    {
      "cell_type": "code",
      "execution_count": null,
      "id": "77c7ccef",
      "metadata": {
        "id": "77c7ccef"
      },
      "outputs": [],
      "source": [
        "##total 462 cities are there with only one accident"
      ]
    },
    {
      "cell_type": "code",
      "execution_count": null,
      "id": "b2890286",
      "metadata": {
        "id": "b2890286",
        "outputId": "f5fbd66d-a958-4ffd-e38c-7241a8f86279"
      },
      "outputs": [
        {
          "data": {
            "text/plain": [
              "0        2016-02-08 00:37:08\n",
              "1        2016-02-08 05:56:20\n",
              "2        2016-02-08 06:15:39\n",
              "3        2016-02-08 06:51:45\n",
              "4        2016-02-08 07:53:43\n",
              "                ...         \n",
              "22916    2016-10-06 23:51:28\n",
              "22917    2016-10-07 01:11:32\n",
              "22918    2016-10-07 01:12:53\n",
              "22919    2016-10-07 02:59:07\n",
              "22920    2016-10-07 03:08:37\n",
              "Name: Start_Time, Length: 22921, dtype: object"
            ]
          },
          "execution_count": 51,
          "metadata": {},
          "output_type": "execute_result"
        }
      ],
      "source": [
        "df1.Start_Time"
      ]
    },
    {
      "cell_type": "code",
      "execution_count": null,
      "id": "e3e46559",
      "metadata": {
        "id": "e3e46559"
      },
      "outputs": [],
      "source": [
        "df1.Start_Time=pd.to_datetime(df1.Start_Time)"
      ]
    },
    {
      "cell_type": "code",
      "execution_count": null,
      "id": "18d03789",
      "metadata": {
        "id": "18d03789",
        "outputId": "91a720ec-d4a2-49f8-f5a5-fd22dac6694e"
      },
      "outputs": [
        {
          "data": {
            "text/plain": [
              "Timestamp('2016-02-08 00:37:08')"
            ]
          },
          "execution_count": 53,
          "metadata": {},
          "output_type": "execute_result"
        }
      ],
      "source": [
        "df1.Start_Time[0]"
      ]
    },
    {
      "cell_type": "code",
      "execution_count": null,
      "id": "7b3a11dd",
      "metadata": {
        "id": "7b3a11dd",
        "outputId": "e3704732-ecfc-4871-ea7c-864649c09703"
      },
      "outputs": [
        {
          "name": "stderr",
          "output_type": "stream",
          "text": [
            "C:\\ProgramData\\Anaconda3\\lib\\site-packages\\seaborn\\distributions.py:2619: FutureWarning: `distplot` is a deprecated function and will be removed in a future version. Please adapt your code to use either `displot` (a figure-level function with similar flexibility) or `histplot` (an axes-level function for histograms).\n",
            "  warnings.warn(msg, FutureWarning)\n"
          ]
        },
        {
          "data": {
            "text/plain": [
              "<AxesSubplot:xlabel='Start_Time'>"
            ]
          },
          "execution_count": 56,
          "metadata": {},
          "output_type": "execute_result"
        },
        {
          "data": {
            "image/png": "[encoded data removed]",
            "text/plain": [
              "<Figure size 864x576 with 1 Axes>"
            ]
          },
          "metadata": {},
          "output_type": "display_data"
        }
      ],
      "source": [
        "sns.distplot(df1.Start_Time.dt.hour,bins=24,kde=False,norm_hist=True)"
      ]
    },
    {
      "cell_type": "markdown",
      "id": "dcf0782b",
      "metadata": {
        "id": "dcf0782b"
      },
      "source": [
        "A high percentage of accidents occur between 6 am to 10 am (probably people in a hurry to get to work)\n",
        "Next higest percentage is 3 pm to 6 pm."
      ]
    },
    {
      "cell_type": "code",
      "execution_count": null,
      "id": "d1c1f4f3",
      "metadata": {
        "id": "d1c1f4f3",
        "outputId": "46b4557d-4416-4029-cff4-d4fdf334542c"
      },
      "outputs": [
        {
          "data": {
            "text/plain": [
              "<AxesSubplot:xlabel='Start_Time'>"
            ]
          },
          "execution_count": 57,
          "metadata": {},
          "output_type": "execute_result"
        },
        {
          "data": {
            "image/png": "[encoded data removed]",
            "text/plain": [
              "<Figure size 864x576 with 1 Axes>"
            ]
          },
          "metadata": {},
          "output_type": "display_data"
        }
      ],
      "source": [
        "sns.distplot(df1.Start_Time.dt.dayofweek,bins=7,kde=False,norm_hist=True)"
      ]
    },
    {
      "cell_type": "markdown",
      "id": "cbf282c0",
      "metadata": {
        "id": "cbf282c0"
      },
      "source": [
        "accidentes are lower on weekends and higher on week days"
      ]
    },
    {
      "cell_type": "code",
      "execution_count": null,
      "id": "3dbcca56",
      "metadata": {
        "id": "3dbcca56",
        "outputId": "12d012b3-3566-4655-832e-a7155869e7aa"
      },
      "outputs": [
        {
          "data": {
            "text/plain": [
              "<AxesSubplot:xlabel='Start_Time'>"
            ]
          },
          "execution_count": 60,
          "metadata": {},
          "output_type": "execute_result"
        },
        {
          "data": {
            "image/png": "[encoded data removed]",
            "text/plain": [
              "<Figure size 864x576 with 1 Axes>"
            ]
          },
          "metadata": {},
          "output_type": "display_data"
        }
      ],
      "source": [
        "sns.distplot(df1.Start_Time.dt.month,bins=12,kde=False,norm_hist=True)"
      ]
    },
    {
      "cell_type": "markdown",
      "id": "c0d89316",
      "metadata": {
        "id": "c0d89316"
      },
      "source": [
        "-no accidents during july and august and maximum accidents occur during may\n",
        "-according to graph we can say the majority of accidents occur during winters(nov,dec,jan)"
      ]
    },
    {
      "cell_type": "code",
      "execution_count": null,
      "id": "d3068ad3",
      "metadata": {
        "id": "d3068ad3"
      },
      "outputs": [],
      "source": [
        ""
      ]
    },
    {
      "cell_type": "markdown",
      "id": "e5940dec",
      "metadata": {
        "id": "e5940dec"
      },
      "source": [
        "Start Latitude & Longitude"
      ]
    },
    {
      "cell_type": "code",
      "execution_count": null,
      "id": "fd79fbd3",
      "metadata": {
        "id": "fd79fbd3",
        "outputId": "dd50eb75-76e4-4d70-df6a-b53075aa4618"
      },
      "outputs": [
        {
          "data": {
            "text/plain": [
              "0        40.108910\n",
              "1        39.865420\n",
              "2        39.102660\n",
              "3        41.062130\n",
              "4        39.172393\n",
              "           ...    \n",
              "22916    32.852590\n",
              "22917    29.665780\n",
              "22918    41.695450\n",
              "22919    30.293073\n",
              "22920          NaN\n",
              "Name: Start_Lat, Length: 22921, dtype: float64"
            ]
          },
          "execution_count": 93,
          "metadata": {},
          "output_type": "execute_result"
        }
      ],
      "source": [
        "df1.Start_Lat"
      ]
    },
    {
      "cell_type": "code",
      "execution_count": null,
      "id": "6d23f660",
      "metadata": {
        "id": "6d23f660",
        "outputId": "04d7809e-0ea8-4b2e-b722-7f7a2f9f3e69"
      },
      "outputs": [
        {
          "data": {
            "text/plain": [
              "0       -83.092860\n",
              "1       -84.062800\n",
              "2       -84.524680\n",
              "3       -81.537840\n",
              "4       -84.492792\n",
              "           ...    \n",
              "22916   -96.883690\n",
              "22917   -95.259957\n",
              "22918   -92.789130\n",
              "22919   -95.464451\n",
              "22920          NaN\n",
              "Name: Start_Lng, Length: 22921, dtype: float64"
            ]
          },
          "execution_count": 94,
          "metadata": {},
          "output_type": "execute_result"
        }
      ],
      "source": [
        "df1.Start_Lng"
      ]
    },
    {
      "cell_type": "code",
      "execution_count": null,
      "id": "206f4503",
      "metadata": {
        "id": "206f4503"
      },
      "outputs": [],
      "source": [
        "sample_df1=df1.sample(int(0.1 * len(df1)))"
      ]
    },
    {
      "cell_type": "code",
      "execution_count": null,
      "id": "29d2b8ae",
      "metadata": {
        "id": "29d2b8ae",
        "outputId": "03405d88-e3a4-4f6e-f5d0-f002c3dd41e4"
      },
      "outputs": [
        {
          "data": {
            "text/plain": [
              "<AxesSubplot:xlabel='Start_Lng', ylabel='Start_Lat'>"
            ]
          },
          "execution_count": 96,
          "metadata": {},
          "output_type": "execute_result"
        },
        {
          "data": {
            "image/png": "[encoded data removed]",
            "text/plain": [
              "<Figure size 864x576 with 1 Axes>"
            ]
          },
          "metadata": {},
          "output_type": "display_data"
        }
      ],
      "source": [
        "sns.scatterplot(x=sample_df1.Start_Lng, y=sample_df1.Start_Lat, size=0.001)"
      ]
    },
    {
      "cell_type": "code",
      "execution_count": null,
      "id": "9014af06",
      "metadata": {
        "id": "9014af06",
        "outputId": "4c1a2bd8-8fae-4efa-904a-0d2a633da7d9"
      },
      "outputs": [
        {
          "data": {
            "text/plain": [
              "CA    10792\n",
              "TX     5828\n",
              "MN     1739\n",
              "MO     1269\n",
              "OH      624\n",
              "KS      503\n",
              "CO      471\n",
              "IA      416\n",
              "OK      347\n",
              "LA      280\n",
              "NE      152\n",
              "IN      124\n",
              "KY      108\n",
              "WI       76\n",
              "PA       66\n",
              "WV       52\n",
              "MS       19\n",
              "MI       14\n",
              "WY       12\n",
              "NM        8\n",
              "AR        6\n",
              "NV        4\n",
              "SD        4\n",
              "MT        3\n",
              "IL        2\n",
              "ND        1\n",
              "Name: State, dtype: int64"
            ]
          },
          "execution_count": 102,
          "metadata": {},
          "output_type": "execute_result"
        }
      ],
      "source": [
        "df1.State.value_counts()"
      ]
    },
    {
      "cell_type": "code",
      "execution_count": null,
      "id": "7e8bddb6",
      "metadata": {
        "id": "7e8bddb6"
      },
      "outputs": [],
      "source": [
        "df1.State()"
      ]
    },
    {
      "cell_type": "markdown",
      "id": "3c53d372",
      "metadata": {
        "id": "3c53d372"
      },
      "source": [
        "california,texas,minnesota,missouri and ohio has the maximum accidents"
      ]
    }
  ],
  "metadata": {
    "kernelspec": {
      "display_name": "Python 3 (ipykernel)",
      "language": "python",
      "name": "python3"
    },
    "language_info": {
      "codemirror_mode": {
        "name": "ipython",
        "version": 3
      },
      "file_extension": ".py",
      "mimetype": "text/x-python",
      "name": "python",
      "nbconvert_exporter": "python",
      "pygments_lexer": "ipython3",
      "version": "3.9.7"
    },
    "colab": {
      "name": "us_accidents_EDA-Copy1.ipynb",
      "provenance": [],
      "include_colab_link": true
    }
  },
  "nbformat": 4,
  "nbformat_minor": 5
}